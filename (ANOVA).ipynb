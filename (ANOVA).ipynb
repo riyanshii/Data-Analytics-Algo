{
 "cells": [
  {
   "cell_type": "markdown",
   "id": "39184f01",
   "metadata": {},
   "source": [
    "# <center>Lab Assignment 3</center>"
   ]
  },
  {
   "cell_type": "code",
   "execution_count": 1,
   "id": "27211e4a",
   "metadata": {},
   "outputs": [],
   "source": [
    "dataCar=datasets::mtcars"
   ]
  },
  {
   "cell_type": "markdown",
   "id": "2019a4d8",
   "metadata": {},
   "source": [
    "# One way anova"
   ]
  },
  {
   "cell_type": "code",
   "execution_count": 2,
   "id": "a47bb513",
   "metadata": {},
   "outputs": [
    {
     "data": {
      "text/plain": [
       "                     Df Sum Sq Mean Sq F value   Pr(>F)    \n",
       "factor(dataCar$gear)  2 280221  140110   20.73 2.56e-06 ***\n",
       "Residuals            29 195964    6757                     \n",
       "---\n",
       "Signif. codes:  0 '***' 0.001 '**' 0.01 '*' 0.05 '.' 0.1 ' ' 1"
      ]
     },
     "metadata": {},
     "output_type": "display_data"
    }
   ],
   "source": [
    "one_way<-aov(dataCar$disp ~ factor(dataCar$gear))\n",
    "summary(one_way)"
   ]
  },
  {
   "cell_type": "code",
   "execution_count": 3,
   "id": "6f89f0b6",
   "metadata": {},
   "outputs": [],
   "source": [
    " gear3Data=dataCar$disp[dataCar$gear==3]\n",
    "gear4Data=dataCar$disp[dataCar$gear==4]\n",
    "gear5Data=dataCar$disp[dataCar$gear==5]\n",
    "Mod_data<-list(gear3Data,gear4Data,gear5Data)"
   ]
  },
  {
   "cell_type": "markdown",
   "id": "f2f2ce14",
   "metadata": {},
   "source": [
    " **MY Function**"
   ]
  },
  {
   "cell_type": "code",
   "execution_count": 4,
   "id": "6296de54",
   "metadata": {},
   "outputs": [
    {
     "name": "stdout",
     "output_type": "stream",
     "text": [
      "                   DF      SS           MSS   \n",
      "Between Classes:  2      280220.6     140110.3 \n",
      "Within Classes:   29     195964.2     6757.385 \n",
      "Fcal:  20.7344 \n",
      "Alternative Hyphothesis: True\n"
     ]
    }
   ],
   "source": [
    "#own function \n",
    "One_anova<-function (lis, conf)\n",
    "{\n",
    "    grand_mean=0\n",
    "    n=0\n",
    "    for(item in lis)\n",
    "        {\n",
    "#         sp_mean<-append(sp_mean,mean(item))\n",
    "        grand_mean=grand_mean+sum(item)\n",
    "        n=n+length(item)\n",
    "    }\n",
    "    SSb=0\n",
    "    SSw=0\n",
    "    grand_mean=grand_mean/n\n",
    "   for(item in lis)\n",
    "       {\n",
    "       SSb=SSb+length(item)*(mean(item)-grand_mean)^2\n",
    "   }\n",
    "     \n",
    "    \n",
    "    for(item in lis)\n",
    "        {\n",
    "        for(j in item)\n",
    "            {\n",
    "            SSw=SSw+(j-mean(item))^2\n",
    "        }\n",
    "    }\n",
    "    k=length(lis)\n",
    "    n=n-k\n",
    "    Msb=SSb/(k-1)\n",
    "    Msw=SSw/n\n",
    "    Fcal=Msb/Msw\n",
    "    Ftab=qf(1-conf,df1=k-1,df2=n)\n",
    "    cat(\"                   DF      SS           MSS   \\n\")\n",
    "    cat(\"Between Classes: \",k-1,\"    \",SSb,\"   \",Msb,\"\\n\")\n",
    "    cat(\"Within Classes:  \",n,\"   \",SSw,\"   \",Msw,\"\\n\")\n",
    "    cat(\"Fcal: \",Fcal,\"\\n\")\n",
    "    if(Ftab>=Fcal)\n",
    "        {\n",
    "        cat(\"NUll Hyphothesis: True\\n\")\n",
    "    }else\n",
    "        {\n",
    "        cat(\"Alternative Hyphothesis: True\\n\")\n",
    "    }\n",
    "}\n",
    "One_anova(Mod_data,0.95)"
   ]
  },
  {
   "cell_type": "markdown",
   "id": "bd09466d",
   "metadata": {},
   "source": [
    "# Two way anova"
   ]
  },
  {
   "cell_type": "code",
   "execution_count": 5,
   "id": "40aed62d",
   "metadata": {},
   "outputs": [
    {
     "data": {
      "text/html": [
       "<table>\n",
       "<tbody>\n",
       "\t<tr><td>326.300 </td><td>  0.0000</td></tr>\n",
       "\t<tr><td>155.675 </td><td>106.6875</td></tr>\n",
       "\t<tr><td>  0.000 </td><td>202.4800</td></tr>\n",
       "</tbody>\n",
       "</table>\n"
      ],
      "text/latex": [
       "\\begin{tabular}{ll}\n",
       "\t 326.300  &   0.0000\\\\\n",
       "\t 155.675  & 106.6875\\\\\n",
       "\t   0.000  & 202.4800\\\\\n",
       "\\end{tabular}\n"
      ],
      "text/markdown": [
       "\n",
       "| 326.300  |   0.0000 |\n",
       "| 155.675  | 106.6875 |\n",
       "|   0.000  | 202.4800 |\n",
       "\n"
      ],
      "text/plain": [
       "     [,1]    [,2]    \n",
       "[1,] 326.300   0.0000\n",
       "[2,] 155.675 106.6875\n",
       "[3,]   0.000 202.4800"
      ]
     },
     "metadata": {},
     "output_type": "display_data"
    }
   ],
   "source": [
    "gear3Data=dataCar$disp[dataCar$gear==3]\n",
    "gear4Data=dataCar$disp[dataCar$gear==4]\n",
    "gear5Data=dataCar$disp[dataCar$gear==5]\n",
    "Mod_data<-list(gear3Data,gear4Data,gear5Data)\n",
    "new_data=matrix(0,nrow=3,ncol=2)\n",
    "nu<-c()\n",
    "gear<-c()\n",
    "am<-c()\n",
    "for( i in 1:3)\n",
    "    {\n",
    "    for(j in 1:2)\n",
    "        {\n",
    "        new_data[i,j]=mean(dataCar$disp[dataCar$gear==(i+2)&dataCar$am==(j-1)])\n",
    "        if(is.na(new_data[i,j])){\n",
    "            new_data[i,j]=0\n",
    "            nu<-append(nu,new_data[i,j])\n",
    "            }else\n",
    "            {\n",
    "            nu<-append(nu,new_data[i,j])\n",
    "        }\n",
    "        gear<-append(gear,(i+2))\n",
    "        am<-append(am,(j-1))\n",
    "    }\n",
    "}\n",
    "new_data"
   ]
  },
  {
   "cell_type": "markdown",
   "id": "bd6880b1",
   "metadata": {},
   "source": [
    "**My Function**"
   ]
  },
  {
   "cell_type": "code",
   "execution_count": 6,
   "id": "a98a281d",
   "metadata": {},
   "outputs": [
    {
     "data": {
      "text/plain": [
       "             Df Sum Sq Mean Sq F value Pr(>F)\n",
       "factor(gear)  2   3834    1917   0.055  0.948\n",
       "factor(am)    1   4977    4977   0.142  0.742\n",
       "Residuals     2  69958   34979               "
      ]
     },
     "metadata": {},
     "output_type": "display_data"
    }
   ],
   "source": [
    "two_way=aov(nu ~ factor(gear)+factor(am))\n",
    "summary(two_way)"
   ]
  },
  {
   "cell_type": "code",
   "execution_count": 7,
   "id": "9fa1c7e1",
   "metadata": {},
   "outputs": [
    {
     "name": "stdout",
     "output_type": "stream",
     "text": [
      "                   DF    SS     MSS   \n",
      "Between level A:  2     3834.218     1917.109 \n",
      "Begween level B:  1     4977.072     4977.072 \n",
      " Error         :  2     69957.74     34978.87 \n",
      "Fcal1:  0.05480764   Fcal2:  0.142288 \n",
      "Alternative Hyphothesis is Accepted."
     ]
    }
   ],
   "source": [
    "two_anova<-function (lis, conf)\n",
    "{\n",
    "    Total_A<-c()\n",
    "    Total_B<-c()\n",
    "   for(i in 1:length(lis[,1]))\n",
    "       {va=0\n",
    "       for( j in 1:length(lis[i,]))\n",
    "           {\n",
    "           va=va+lis[i,j]\n",
    "       }\n",
    "        Total_A<-append(Total_A,va)\n",
    "   }\n",
    "    \n",
    "    for(i in 1:length(lis[1,]))\n",
    "      {va=0\n",
    "        for(j in 1:length(lis[,i]))\n",
    "            {\n",
    "           va=va+lis[j,i] \n",
    "        }\n",
    "       Total_B<-append(Total_B,va)\n",
    "    }\n",
    "     \n",
    "    grand_total=sum(Total_A)\n",
    "    p=length(lis[,1])\n",
    "    q=length(lis[1,])\n",
    "    sq_total=0\n",
    "     \n",
    "     for(item in lis)\n",
    "         {\n",
    "         sq_total=sq_total+item^2\n",
    "     }\n",
    "    \n",
    "    cor_fact=(grand_total)^2/(p*q)\n",
    "    total_ss=sq_total-cor_fact\n",
    "    ssa=(sum((Total_A)^2)/q)-cor_fact\n",
    "    ssb=(sum((Total_B)^2)/p)-cor_fact\n",
    "    sse=total_ss-ssa-ssb\n",
    "    \n",
    "    Msa=ssa/(p-1)\n",
    "    Msb=ssb/(q-1)\n",
    "    Mse=sse/((p-1)*(q-1))\n",
    "    Fcal1=Msa/Mse\n",
    "    Fcal2=Msb/Mse\n",
    "    Ftab1=qf(1-conf,df1=p-1,df2=(p-1)*(q-1))\n",
    "    Ftab2=qf(1-conf,df1=q-1,df2=(p-1)*(q-1))\n",
    "      \n",
    "    cat(\"                   DF    SS     MSS   \\n\")\n",
    "    cat(\"Between level A: \",p-1,\"   \",ssa,\"   \",Msa,\"\\n\")\n",
    "    cat(\"Begween level B: \",q-1,\"   \",ssb,\"   \",Msb,\"\\n\")\n",
    "    cat(\" Error         : \",(p-1)*(q-1),\"   \",sse,\"   \",Mse,\"\\n\")\n",
    "    cat(\"Fcal1: \",Fcal1,\" \")\n",
    "    cat(\" Fcal2: \",Fcal2,\"\\n\")\n",
    "    if(Ftab1>=Fcal1&&Ftab2>=Fcal2)\n",
    "        {\n",
    "        cat(\"Null Hyphothesis for both factor is accepted. \")\n",
    "    }\n",
    "    else if(Ftab1>=Fcal1)\n",
    "        {\n",
    "        cat(\"For first factor NULL HYphothesis is accpeted and for second factor NULL hyphothesis is rejected.\")\n",
    "    }\n",
    "        else if(Ftab2>=Fcal2)\n",
    "            {\n",
    "             cat(\"For first factor NULL HYphothesis is rejected and for second factor NULL hyphothesis is accepted.\")\n",
    "        }\n",
    "            else\n",
    "                {\n",
    "                cat(\"Alternative Hyphothesis is Accepted.\")\n",
    "            }\n",
    "}\n",
    "two_anova(new_data,0.95)"
   ]
  },
  {
   "cell_type": "code",
   "execution_count": null,
   "id": "6d6e49b4",
   "metadata": {},
   "outputs": [],
   "source": []
  }
 ],
 "metadata": {
  "kernelspec": {
   "display_name": "R",
   "language": "R",
   "name": "ir"
  },
  "language_info": {
   "codemirror_mode": "r",
   "file_extension": ".r",
   "mimetype": "text/x-r-source",
   "name": "R",
   "pygments_lexer": "r",
   "version": "3.6.1"
  }
 },
 "nbformat": 4,
 "nbformat_minor": 5
}
